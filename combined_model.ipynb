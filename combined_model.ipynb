{
 "cells": [
  {
   "cell_type": "code",
   "execution_count": 18,
   "metadata": {
    "collapsed": true,
    "jupyter": {
     "outputs_hidden": true
    }
   },
   "outputs": [],
   "source": [
    "import random\n",
    "import pandas as pd\n",
    "import numpy as np\n",
    "from sklearn.preprocessing import LabelEncoder"
   ]
  },
  {
   "cell_type": "code",
   "execution_count": 19,
   "metadata": {
    "collapsed": false,
    "jupyter": {
     "outputs_hidden": false
    }
   },
   "outputs": [],
   "source": [
    "data_df = pd.read_csv('preprocessed_data.csv')"
   ]
  },
  {
   "cell_type": "code",
   "execution_count": 20,
   "metadata": {
    "collapsed": false,
    "jupyter": {
     "outputs_hidden": false
    }
   },
   "outputs": [],
   "source": [
    "X_signal = np.load('X_signal.npy')"
   ]
  },
  {
   "cell_type": "code",
   "execution_count": 21,
   "metadata": {
    "collapsed": false,
    "jupyter": {
     "outputs_hidden": false
    }
   },
   "outputs": [
    {
     "data": {
      "text/plain": [
       "[390,\n",
       " 340,\n",
       " 236,\n",
       " 170,\n",
       " 394,\n",
       " 591,\n",
       " 290,\n",
       " 566,\n",
       " 283,\n",
       " 392,\n",
       " 590,\n",
       " 9,\n",
       " 255,\n",
       " 18,\n",
       " 449,\n",
       " 158,\n",
       " 153,\n",
       " 326,\n",
       " 171,\n",
       " 263,\n",
       " 597,\n",
       " 60,\n",
       " 122,\n",
       " 601,\n",
       " 33,\n",
       " 442,\n",
       " 288,\n",
       " 221,\n",
       " 74,\n",
       " 368,\n",
       " 486,\n",
       " 128,\n",
       " 568,\n",
       " 126,\n",
       " 101,\n",
       " 147,\n",
       " 182,\n",
       " 54,\n",
       " 272,\n",
       " 325,\n",
       " 230,\n",
       " 26,\n",
       " 186,\n",
       " 445,\n",
       " 58,\n",
       " 308,\n",
       " 409,\n",
       " 149,\n",
       " 109,\n",
       " 95,\n",
       " 416,\n",
       " 22,\n",
       " 505,\n",
       " 404,\n",
       " 235,\n",
       " 87,\n",
       " 138,\n",
       " 79,\n",
       " 469,\n",
       " 411]"
      ]
     },
     "execution_count": 21,
     "metadata": {},
     "output_type": "execute_result"
    }
   ],
   "source": [
    "random.seed(41)\n",
    "dataset_length = len(data_df)\n",
    "test_size = int(0.1 * dataset_length)\n",
    "test_indices = random.sample(range(dataset_length), test_size)\n",
    "test_indices"
   ]
  },
  {
   "cell_type": "code",
   "execution_count": 22,
   "metadata": {
    "collapsed": false,
    "jupyter": {
     "outputs_hidden": false
    }
   },
   "outputs": [
    {
     "data": {
      "text/plain": [
       "(60,)"
      ]
     },
     "execution_count": 22,
     "metadata": {},
     "output_type": "execute_result"
    }
   ],
   "source": [
    "# Common y test\n",
    "y_test = LabelEncoder().fit_transform(data_df['Outcome'][test_indices])\n",
    "y_test.shape"
   ]
  },
  {
   "cell_type": "markdown",
   "metadata": {},
   "source": [
    "## For XGBoost"
   ]
  },
  {
   "cell_type": "code",
   "execution_count": 23,
   "metadata": {
    "collapsed": false,
    "jupyter": {
     "outputs_hidden": false
    }
   },
   "outputs": [],
   "source": [
    "sub_data_df = data_df.iloc[test_indices]"
   ]
  },
  {
   "cell_type": "code",
   "execution_count": null,
   "metadata": {
    "collapsed": false,
    "jupyter": {
     "outputs_hidden": false
    }
   },
   "outputs": [],
   "source": [
    "from sklearn.impute import KNNImputer\n",
    "sub_data_df.drop(['Patient', 'ROSC', 'CPC'], axis=1, inplace=True)\n",
    "\n",
    "# Fill missing values in categorical columns with mode\n",
    "categorical_columns = ['Sex', 'OHCA', 'VFib']\n",
    "for col in categorical_columns:\n",
    "    sub_data_df[col].fillna(sub_data_df[col].mode().iloc[0], inplace=True)\n",
    "\n",
    "imputer = KNNImputer(n_neighbors=5)\n",
    "sub_data_df['TTM'] = imputer.fit_transform(sub_data_df[['TTM']])\n",
    "sub_data_df['Age'] = imputer.fit_transform(sub_data_df[['Age']])"
   ]
  },
  {
   "cell_type": "code",
   "execution_count": 25,
   "metadata": {
    "collapsed": false,
    "jupyter": {
     "outputs_hidden": false
    }
   },
   "outputs": [],
   "source": [
    "# Take x test from data_df\n",
    "X_test_1 = sub_data_df.drop(['Outcome'], axis=1)\n",
    "X_test_1 = pd.get_dummies(X_test_1, drop_first=True, dtype=int)"
   ]
  },
  {
   "cell_type": "code",
   "execution_count": 26,
   "metadata": {
    "collapsed": false,
    "jupyter": {
     "outputs_hidden": false
    }
   },
   "outputs": [
    {
     "data": {
      "text/plain": [
       "(60, 905)"
      ]
     },
     "execution_count": 26,
     "metadata": {},
     "output_type": "execute_result"
    }
   ],
   "source": [
    "X_test_1.shape"
   ]
  },
  {
   "cell_type": "markdown",
   "metadata": {},
   "source": [
    "## For LSTM"
   ]
  },
  {
   "cell_type": "code",
   "execution_count": 27,
   "metadata": {
    "collapsed": false,
    "jupyter": {
     "outputs_hidden": false
    }
   },
   "outputs": [],
   "source": [
    "X_sub_signal = X_signal[test_indices]\n",
    "X_test_2 = X_sub_signal.reshape(X_sub_signal.shape[0], X_sub_signal.shape[2], X_sub_signal.shape[1])"
   ]
  },
  {
   "cell_type": "code",
   "execution_count": 28,
   "metadata": {
    "collapsed": false,
    "jupyter": {
     "outputs_hidden": false
    }
   },
   "outputs": [
    {
     "data": {
      "text/plain": [
       "(60, 30000, 18)"
      ]
     },
     "execution_count": 28,
     "metadata": {},
     "output_type": "execute_result"
    }
   ],
   "source": [
    "X_test_2.shape"
   ]
  },
  {
   "cell_type": "markdown",
   "metadata": {},
   "source": [
    "## Combine predictions from both"
   ]
  },
  {
   "cell_type": "code",
   "execution_count": 29,
   "metadata": {
    "collapsed": false,
    "jupyter": {
     "outputs_hidden": false
    }
   },
   "outputs": [],
   "source": [
    "# load xgboost model\n",
    "import joblib\n",
    "xgboost_model = joblib.load('best_xgb_model.joblib')"
   ]
  },
  {
   "cell_type": "code",
   "execution_count": 30,
   "metadata": {
    "collapsed": false,
    "jupyter": {
     "outputs_hidden": false
    }
   },
   "outputs": [
    {
     "data": {
      "text/plain": [
       "(60,)"
      ]
     },
     "execution_count": 30,
     "metadata": {},
     "output_type": "execute_result"
    }
   ],
   "source": [
    "y_proba_1 = xgboost_model.predict_proba(X_test_1)[:,1]\n",
    "y_proba_1.shape"
   ]
  },
  {
   "cell_type": "code",
   "execution_count": 31,
   "metadata": {
    "collapsed": false,
    "jupyter": {
     "outputs_hidden": false
    }
   },
   "outputs": [],
   "source": [
    "# load LSTM model\n",
    "import tensorflow as tf\n",
    "custom_lstm_model = tf.keras.models.load_model('custom_lstm_model.h5')"
   ]
  },
  {
   "cell_type": "code",
   "execution_count": 32,
   "metadata": {
    "collapsed": false,
    "jupyter": {
     "outputs_hidden": false
    }
   },
   "outputs": [
    {
     "name": "stdout",
     "output_type": "stream",
     "text": [
      "2/2 [==============================] - 9s 4s/step\n"
     ]
    },
    {
     "data": {
      "text/plain": [
       "(60,)"
      ]
     },
     "execution_count": 32,
     "metadata": {},
     "output_type": "execute_result"
    }
   ],
   "source": [
    "y_proba_2 = custom_lstm_model.predict(X_test_2).squeeze()\n",
    "y_proba_2.shape"
   ]
  },
  {
   "cell_type": "code",
   "execution_count": 33,
   "metadata": {
    "collapsed": false,
    "jupyter": {
     "outputs_hidden": false
    }
   },
   "outputs": [],
   "source": [
    "average_pred_probs = (y_proba_1 + y_proba_2) / 2\n",
    "y_proba = np.round(average_pred_probs)"
   ]
  },
  {
   "cell_type": "code",
   "execution_count": 34,
   "metadata": {
    "collapsed": false,
    "jupyter": {
     "outputs_hidden": false
    }
   },
   "outputs": [
    {
     "name": "stdout",
     "output_type": "stream",
     "text": [
      "              precision    recall  f1-score   support\n",
      "\n",
      "           0       0.91      0.84      0.87        25\n",
      "           1       0.89      0.94      0.92        35\n",
      "\n",
      "    accuracy                           0.90        60\n",
      "   macro avg       0.90      0.89      0.90        60\n",
      "weighted avg       0.90      0.90      0.90        60\n",
      "\n"
     ]
    }
   ],
   "source": [
    "from sklearn.metrics import classification_report\n",
    "\n",
    "y_pred = (y_proba > 0.5).astype(int)\n",
    "# Print the classification report\n",
    "report = classification_report(y_test, y_pred)\n",
    "print(report)"
   ]
  },
  {
   "cell_type": "code",
   "execution_count": 34,
   "metadata": {
    "collapsed": false,
    "jupyter": {
     "outputs_hidden": false
    }
   },
   "outputs": [],
   "source": []
  }
 ],
 "metadata": {
  "kernelspec": {
   "display_name": "Python 3 (ipykernel)",
   "language": "python",
   "name": "python3"
  },
  "language_info": {
   "codemirror_mode": {
    "name": "ipython",
    "version": 3
   },
   "file_extension": ".py",
   "mimetype": "text/x-python",
   "name": "python",
   "nbconvert_exporter": "python",
   "pygments_lexer": "ipython3",
   "version": "3.11.4"
  }
 },
 "nbformat": 4,
 "nbformat_minor": 4
}
