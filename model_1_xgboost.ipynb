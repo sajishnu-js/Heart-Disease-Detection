{
 "cells": [
  {
   "cell_type": "code",
   "execution_count": 1,
   "metadata": {
    "collapsed": true,
    "jupyter": {
     "outputs_hidden": true
    }
   },
   "outputs": [],
   "source": [
    "import pandas as pd\n",
    "from sklearn.model_selection import train_test_split\n",
    "from sklearn.metrics import classification_report\n",
    "from xgboost import XGBClassifier"
   ]
  },
  {
   "cell_type": "markdown",
   "metadata": {},
   "source": [
    "## Prepare data for training"
   ]
  },
  {
   "cell_type": "code",
   "execution_count": 2,
   "metadata": {
    "collapsed": false,
    "jupyter": {
     "outputs_hidden": false
    }
   },
   "outputs": [
    {
     "data": {
      "text/html": [
       "<div>\n",
       "<style scoped>\n",
       "    .dataframe tbody tr th:only-of-type {\n",
       "        vertical-align: middle;\n",
       "    }\n",
       "\n",
       "    .dataframe tbody tr th {\n",
       "        vertical-align: top;\n",
       "    }\n",
       "\n",
       "    .dataframe thead th {\n",
       "        text-align: right;\n",
       "    }\n",
       "</style>\n",
       "<table border=\"1\" class=\"dataframe\">\n",
       "  <thead>\n",
       "    <tr style=\"text-align: right;\">\n",
       "      <th></th>\n",
       "      <th>Patient</th>\n",
       "      <th>Age</th>\n",
       "      <th>Sex</th>\n",
       "      <th>ROSC</th>\n",
       "      <th>OHCA</th>\n",
       "      <th>VFib</th>\n",
       "      <th>TTM</th>\n",
       "      <th>Outcome</th>\n",
       "      <th>CPC</th>\n",
       "      <th>0</th>\n",
       "      <th>...</th>\n",
       "      <th>890</th>\n",
       "      <th>891</th>\n",
       "      <th>892</th>\n",
       "      <th>893</th>\n",
       "      <th>894</th>\n",
       "      <th>895</th>\n",
       "      <th>896</th>\n",
       "      <th>897</th>\n",
       "      <th>898</th>\n",
       "      <th>899</th>\n",
       "    </tr>\n",
       "  </thead>\n",
       "  <tbody>\n",
       "    <tr>\n",
       "      <th>0</th>\n",
       "      <td>ICARE_0284</td>\n",
       "      <td>53.0</td>\n",
       "      <td>Male</td>\n",
       "      <td>NaN</td>\n",
       "      <td>True</td>\n",
       "      <td>True</td>\n",
       "      <td>33.0</td>\n",
       "      <td>Good</td>\n",
       "      <td>1</td>\n",
       "      <td>41136.0</td>\n",
       "      <td>...</td>\n",
       "      <td>2323.499419</td>\n",
       "      <td>1761.118277</td>\n",
       "      <td>2520.244034</td>\n",
       "      <td>2284.636104</td>\n",
       "      <td>2401.477446</td>\n",
       "      <td>1956.090654</td>\n",
       "      <td>1956.620355</td>\n",
       "      <td>2111.938459</td>\n",
       "      <td>2146.342639</td>\n",
       "      <td>2042.268531</td>\n",
       "    </tr>\n",
       "    <tr>\n",
       "      <th>1</th>\n",
       "      <td>ICARE_0286</td>\n",
       "      <td>85.0</td>\n",
       "      <td>Female</td>\n",
       "      <td>7.0</td>\n",
       "      <td>False</td>\n",
       "      <td>False</td>\n",
       "      <td>NaN</td>\n",
       "      <td>Good</td>\n",
       "      <td>1</td>\n",
       "      <td>21386.0</td>\n",
       "      <td>...</td>\n",
       "      <td>1717.566899</td>\n",
       "      <td>1696.593390</td>\n",
       "      <td>1542.500997</td>\n",
       "      <td>1832.733559</td>\n",
       "      <td>1948.641961</td>\n",
       "      <td>1365.186974</td>\n",
       "      <td>1765.238679</td>\n",
       "      <td>2115.962946</td>\n",
       "      <td>2365.949837</td>\n",
       "      <td>1962.603546</td>\n",
       "    </tr>\n",
       "    <tr>\n",
       "      <th>2</th>\n",
       "      <td>ICARE_0296</td>\n",
       "      <td>48.0</td>\n",
       "      <td>Male</td>\n",
       "      <td>NaN</td>\n",
       "      <td>True</td>\n",
       "      <td>True</td>\n",
       "      <td>36.0</td>\n",
       "      <td>Good</td>\n",
       "      <td>1</td>\n",
       "      <td>174588.0</td>\n",
       "      <td>...</td>\n",
       "      <td>641.080210</td>\n",
       "      <td>642.541277</td>\n",
       "      <td>488.454049</td>\n",
       "      <td>528.212869</td>\n",
       "      <td>405.561417</td>\n",
       "      <td>426.595821</td>\n",
       "      <td>391.946972</td>\n",
       "      <td>487.054377</td>\n",
       "      <td>660.326713</td>\n",
       "      <td>424.147856</td>\n",
       "    </tr>\n",
       "    <tr>\n",
       "      <th>3</th>\n",
       "      <td>ICARE_0299</td>\n",
       "      <td>45.0</td>\n",
       "      <td>Male</td>\n",
       "      <td>NaN</td>\n",
       "      <td>True</td>\n",
       "      <td>True</td>\n",
       "      <td>33.0</td>\n",
       "      <td>Good</td>\n",
       "      <td>1</td>\n",
       "      <td>37668.0</td>\n",
       "      <td>...</td>\n",
       "      <td>1737.098619</td>\n",
       "      <td>1721.455626</td>\n",
       "      <td>2139.310922</td>\n",
       "      <td>2011.260680</td>\n",
       "      <td>1439.091972</td>\n",
       "      <td>1861.282457</td>\n",
       "      <td>2058.062771</td>\n",
       "      <td>2035.698380</td>\n",
       "      <td>1954.922482</td>\n",
       "      <td>1648.370151</td>\n",
       "    </tr>\n",
       "    <tr>\n",
       "      <th>4</th>\n",
       "      <td>ICARE_0303</td>\n",
       "      <td>51.0</td>\n",
       "      <td>Male</td>\n",
       "      <td>24.0</td>\n",
       "      <td>True</td>\n",
       "      <td>True</td>\n",
       "      <td>33.0</td>\n",
       "      <td>Good</td>\n",
       "      <td>1</td>\n",
       "      <td>101177.0</td>\n",
       "      <td>...</td>\n",
       "      <td>65375.045069</td>\n",
       "      <td>55764.893648</td>\n",
       "      <td>104130.086229</td>\n",
       "      <td>130710.873908</td>\n",
       "      <td>209894.798272</td>\n",
       "      <td>48588.876959</td>\n",
       "      <td>72681.417096</td>\n",
       "      <td>53985.366406</td>\n",
       "      <td>62553.147813</td>\n",
       "      <td>62974.861117</td>\n",
       "    </tr>\n",
       "    <tr>\n",
       "      <th>...</th>\n",
       "      <td>...</td>\n",
       "      <td>...</td>\n",
       "      <td>...</td>\n",
       "      <td>...</td>\n",
       "      <td>...</td>\n",
       "      <td>...</td>\n",
       "      <td>...</td>\n",
       "      <td>...</td>\n",
       "      <td>...</td>\n",
       "      <td>...</td>\n",
       "      <td>...</td>\n",
       "      <td>...</td>\n",
       "      <td>...</td>\n",
       "      <td>...</td>\n",
       "      <td>...</td>\n",
       "      <td>...</td>\n",
       "      <td>...</td>\n",
       "      <td>...</td>\n",
       "      <td>...</td>\n",
       "      <td>...</td>\n",
       "      <td>...</td>\n",
       "    </tr>\n",
       "    <tr>\n",
       "      <th>602</th>\n",
       "      <td>ICARE_1016</td>\n",
       "      <td>87.0</td>\n",
       "      <td>Male</td>\n",
       "      <td>7.0</td>\n",
       "      <td>True</td>\n",
       "      <td>False</td>\n",
       "      <td>33.0</td>\n",
       "      <td>Poor</td>\n",
       "      <td>5</td>\n",
       "      <td>217710.0</td>\n",
       "      <td>...</td>\n",
       "      <td>3194.937052</td>\n",
       "      <td>3426.623506</td>\n",
       "      <td>2187.660292</td>\n",
       "      <td>3008.751281</td>\n",
       "      <td>1249.407402</td>\n",
       "      <td>1195.003110</td>\n",
       "      <td>529.097266</td>\n",
       "      <td>896.516031</td>\n",
       "      <td>636.795797</td>\n",
       "      <td>443.510157</td>\n",
       "    </tr>\n",
       "    <tr>\n",
       "      <th>603</th>\n",
       "      <td>ICARE_1017</td>\n",
       "      <td>26.0</td>\n",
       "      <td>Male</td>\n",
       "      <td>52.0</td>\n",
       "      <td>True</td>\n",
       "      <td>False</td>\n",
       "      <td>NaN</td>\n",
       "      <td>Poor</td>\n",
       "      <td>5</td>\n",
       "      <td>20673.0</td>\n",
       "      <td>...</td>\n",
       "      <td>2316.011901</td>\n",
       "      <td>1382.017209</td>\n",
       "      <td>1335.365537</td>\n",
       "      <td>1497.886789</td>\n",
       "      <td>996.647316</td>\n",
       "      <td>1129.379420</td>\n",
       "      <td>1444.935750</td>\n",
       "      <td>750.279314</td>\n",
       "      <td>1316.333410</td>\n",
       "      <td>1752.069081</td>\n",
       "    </tr>\n",
       "    <tr>\n",
       "      <th>604</th>\n",
       "      <td>ICARE_1018</td>\n",
       "      <td>63.0</td>\n",
       "      <td>Male</td>\n",
       "      <td>NaN</td>\n",
       "      <td>True</td>\n",
       "      <td>True</td>\n",
       "      <td>36.0</td>\n",
       "      <td>Poor</td>\n",
       "      <td>5</td>\n",
       "      <td>95755.0</td>\n",
       "      <td>...</td>\n",
       "      <td>303.691258</td>\n",
       "      <td>211.723734</td>\n",
       "      <td>499.036674</td>\n",
       "      <td>466.082978</td>\n",
       "      <td>569.939237</td>\n",
       "      <td>43.018710</td>\n",
       "      <td>279.049945</td>\n",
       "      <td>379.680030</td>\n",
       "      <td>706.629473</td>\n",
       "      <td>358.345057</td>\n",
       "    </tr>\n",
       "    <tr>\n",
       "      <th>605</th>\n",
       "      <td>ICARE_1019</td>\n",
       "      <td>72.0</td>\n",
       "      <td>Male</td>\n",
       "      <td>NaN</td>\n",
       "      <td>True</td>\n",
       "      <td>True</td>\n",
       "      <td>36.0</td>\n",
       "      <td>Good</td>\n",
       "      <td>1</td>\n",
       "      <td>12644.0</td>\n",
       "      <td>...</td>\n",
       "      <td>551.074899</td>\n",
       "      <td>350.007848</td>\n",
       "      <td>548.862559</td>\n",
       "      <td>585.266452</td>\n",
       "      <td>415.641696</td>\n",
       "      <td>398.751891</td>\n",
       "      <td>569.851070</td>\n",
       "      <td>545.500934</td>\n",
       "      <td>313.270523</td>\n",
       "      <td>222.972065</td>\n",
       "    </tr>\n",
       "    <tr>\n",
       "      <th>606</th>\n",
       "      <td>ICARE_1020</td>\n",
       "      <td>67.0</td>\n",
       "      <td>Male</td>\n",
       "      <td>NaN</td>\n",
       "      <td>True</td>\n",
       "      <td>True</td>\n",
       "      <td>36.0</td>\n",
       "      <td>Good</td>\n",
       "      <td>1</td>\n",
       "      <td>267172.0</td>\n",
       "      <td>...</td>\n",
       "      <td>9344.951453</td>\n",
       "      <td>8797.670039</td>\n",
       "      <td>9317.724615</td>\n",
       "      <td>8437.344949</td>\n",
       "      <td>8686.494471</td>\n",
       "      <td>8902.042431</td>\n",
       "      <td>8652.129444</td>\n",
       "      <td>7675.072287</td>\n",
       "      <td>8196.766157</td>\n",
       "      <td>8511.671143</td>\n",
       "    </tr>\n",
       "  </tbody>\n",
       "</table>\n",
       "<p>607 rows × 909 columns</p>\n",
       "</div>"
      ],
      "text/plain": [
       "        Patient   Age     Sex  ROSC   OHCA   VFib   TTM Outcome  CPC  \\\n",
       "0    ICARE_0284  53.0    Male   NaN   True   True  33.0    Good    1   \n",
       "1    ICARE_0286  85.0  Female   7.0  False  False   NaN    Good    1   \n",
       "2    ICARE_0296  48.0    Male   NaN   True   True  36.0    Good    1   \n",
       "3    ICARE_0299  45.0    Male   NaN   True   True  33.0    Good    1   \n",
       "4    ICARE_0303  51.0    Male  24.0   True   True  33.0    Good    1   \n",
       "..          ...   ...     ...   ...    ...    ...   ...     ...  ...   \n",
       "602  ICARE_1016  87.0    Male   7.0   True  False  33.0    Poor    5   \n",
       "603  ICARE_1017  26.0    Male  52.0   True  False   NaN    Poor    5   \n",
       "604  ICARE_1018  63.0    Male   NaN   True   True  36.0    Poor    5   \n",
       "605  ICARE_1019  72.0    Male   NaN   True   True  36.0    Good    1   \n",
       "606  ICARE_1020  67.0    Male   NaN   True   True  36.0    Good    1   \n",
       "\n",
       "            0  ...           890           891            892            893  \\\n",
       "0     41136.0  ...   2323.499419   1761.118277    2520.244034    2284.636104   \n",
       "1     21386.0  ...   1717.566899   1696.593390    1542.500997    1832.733559   \n",
       "2    174588.0  ...    641.080210    642.541277     488.454049     528.212869   \n",
       "3     37668.0  ...   1737.098619   1721.455626    2139.310922    2011.260680   \n",
       "4    101177.0  ...  65375.045069  55764.893648  104130.086229  130710.873908   \n",
       "..        ...  ...           ...           ...            ...            ...   \n",
       "602  217710.0  ...   3194.937052   3426.623506    2187.660292    3008.751281   \n",
       "603   20673.0  ...   2316.011901   1382.017209    1335.365537    1497.886789   \n",
       "604   95755.0  ...    303.691258    211.723734     499.036674     466.082978   \n",
       "605   12644.0  ...    551.074899    350.007848     548.862559     585.266452   \n",
       "606  267172.0  ...   9344.951453   8797.670039    9317.724615    8437.344949   \n",
       "\n",
       "               894           895           896           897           898  \\\n",
       "0      2401.477446   1956.090654   1956.620355   2111.938459   2146.342639   \n",
       "1      1948.641961   1365.186974   1765.238679   2115.962946   2365.949837   \n",
       "2       405.561417    426.595821    391.946972    487.054377    660.326713   \n",
       "3      1439.091972   1861.282457   2058.062771   2035.698380   1954.922482   \n",
       "4    209894.798272  48588.876959  72681.417096  53985.366406  62553.147813   \n",
       "..             ...           ...           ...           ...           ...   \n",
       "602    1249.407402   1195.003110    529.097266    896.516031    636.795797   \n",
       "603     996.647316   1129.379420   1444.935750    750.279314   1316.333410   \n",
       "604     569.939237     43.018710    279.049945    379.680030    706.629473   \n",
       "605     415.641696    398.751891    569.851070    545.500934    313.270523   \n",
       "606    8686.494471   8902.042431   8652.129444   7675.072287   8196.766157   \n",
       "\n",
       "              899  \n",
       "0     2042.268531  \n",
       "1     1962.603546  \n",
       "2      424.147856  \n",
       "3     1648.370151  \n",
       "4    62974.861117  \n",
       "..            ...  \n",
       "602    443.510157  \n",
       "603   1752.069081  \n",
       "604    358.345057  \n",
       "605    222.972065  \n",
       "606   8511.671143  \n",
       "\n",
       "[607 rows x 909 columns]"
      ]
     },
     "execution_count": 2,
     "metadata": {},
     "output_type": "execute_result"
    }
   ],
   "source": [
    "data_df = pd.read_csv('preprocessed_data.csv')\n",
    "data_df"
   ]
  },
  {
   "cell_type": "code",
   "execution_count": 3,
   "metadata": {
    "collapsed": false,
    "jupyter": {
     "outputs_hidden": false
    }
   },
   "outputs": [
    {
     "data": {
      "text/plain": [
       "Patient      0\n",
       "Age          1\n",
       "Sex          3\n",
       "ROSC       304\n",
       "OHCA        41\n",
       "          ... \n",
       "895          0\n",
       "896          0\n",
       "897          0\n",
       "898          0\n",
       "899          0\n",
       "Length: 909, dtype: int64"
      ]
     },
     "execution_count": 3,
     "metadata": {},
     "output_type": "execute_result"
    }
   ],
   "source": [
    "data_df.isna().sum()"
   ]
  },
  {
   "cell_type": "code",
   "execution_count": 4,
   "metadata": {
    "collapsed": false,
    "jupyter": {
     "outputs_hidden": false
    }
   },
   "outputs": [],
   "source": [
    "data_df.drop(['Patient', 'ROSC', 'CPC'], axis=1, inplace=True)"
   ]
  },
  {
   "cell_type": "code",
   "execution_count": 5,
   "metadata": {
    "collapsed": false,
    "jupyter": {
     "outputs_hidden": false
    }
   },
   "outputs": [],
   "source": [
    "from sklearn.impute import KNNImputer\n",
    "\n",
    "# Fill missing values in categorical columns with mode\n",
    "categorical_columns = ['Sex', 'OHCA', 'VFib']\n",
    "for col in categorical_columns:\n",
    "    data_df[col].fillna(data_df[col].mode().iloc[0], inplace=True)\n",
    "\n",
    "imputer = KNNImputer(n_neighbors=5)\n",
    "data_df['TTM'] = imputer.fit_transform(data_df[['TTM']])\n",
    "data_df['Age'] = imputer.fit_transform(data_df[['Age']])"
   ]
  },
  {
   "cell_type": "code",
   "execution_count": 6,
   "metadata": {
    "collapsed": false,
    "jupyter": {
     "outputs_hidden": false
    }
   },
   "outputs": [
    {
     "data": {
      "text/plain": [
       "(607, 906)"
      ]
     },
     "execution_count": 6,
     "metadata": {},
     "output_type": "execute_result"
    }
   ],
   "source": [
    "data_df.shape"
   ]
  },
  {
   "cell_type": "code",
   "execution_count": 7,
   "metadata": {
    "collapsed": false,
    "jupyter": {
     "outputs_hidden": false
    }
   },
   "outputs": [],
   "source": [
    "X = data_df.drop(['Outcome'], axis=1)\n",
    "X = pd.get_dummies(X, drop_first=True, dtype=int)\n",
    "y = data_df['Outcome']"
   ]
  },
  {
   "cell_type": "code",
   "execution_count": 8,
   "metadata": {
    "collapsed": false,
    "jupyter": {
     "outputs_hidden": false
    }
   },
   "outputs": [],
   "source": [
    "from sklearn.preprocessing import LabelEncoder\n",
    "\n",
    "label_encoder = LabelEncoder()\n",
    "y_enc = label_encoder.fit_transform(y)"
   ]
  },
  {
   "cell_type": "code",
   "execution_count": 9,
   "metadata": {
    "collapsed": false,
    "jupyter": {
     "outputs_hidden": false
    }
   },
   "outputs": [
    {
     "name": "stdout",
     "output_type": "stream",
     "text": [
      "(485, 905) (122, 905) (485,) (122,)\n"
     ]
    }
   ],
   "source": [
    "X_train, X_test, y_train, y_test = train_test_split(X, y_enc, test_size=0.2, random_state=42)\n",
    "print(X_train.shape, X_test.shape, y_train.shape, y_test.shape)"
   ]
  },
  {
   "cell_type": "markdown",
   "metadata": {},
   "source": [
    "## XGBoost Classifier"
   ]
  },
  {
   "cell_type": "code",
   "execution_count": 10,
   "metadata": {
    "collapsed": false,
    "jupyter": {
     "outputs_hidden": false
    }
   },
   "outputs": [
    {
     "data": {
      "text/html": [
       "<style>#sk-container-id-1 {color: black;background-color: white;}#sk-container-id-1 pre{padding: 0;}#sk-container-id-1 div.sk-toggleable {background-color: white;}#sk-container-id-1 label.sk-toggleable__label {cursor: pointer;display: block;width: 100%;margin-bottom: 0;padding: 0.3em;box-sizing: border-box;text-align: center;}#sk-container-id-1 label.sk-toggleable__label-arrow:before {content: \"▸\";float: left;margin-right: 0.25em;color: #696969;}#sk-container-id-1 label.sk-toggleable__label-arrow:hover:before {color: black;}#sk-container-id-1 div.sk-estimator:hover label.sk-toggleable__label-arrow:before {color: black;}#sk-container-id-1 div.sk-toggleable__content {max-height: 0;max-width: 0;overflow: hidden;text-align: left;background-color: #f0f8ff;}#sk-container-id-1 div.sk-toggleable__content pre {margin: 0.2em;color: black;border-radius: 0.25em;background-color: #f0f8ff;}#sk-container-id-1 input.sk-toggleable__control:checked~div.sk-toggleable__content {max-height: 200px;max-width: 100%;overflow: auto;}#sk-container-id-1 input.sk-toggleable__control:checked~label.sk-toggleable__label-arrow:before {content: \"▾\";}#sk-container-id-1 div.sk-estimator input.sk-toggleable__control:checked~label.sk-toggleable__label {background-color: #d4ebff;}#sk-container-id-1 div.sk-label input.sk-toggleable__control:checked~label.sk-toggleable__label {background-color: #d4ebff;}#sk-container-id-1 input.sk-hidden--visually {border: 0;clip: rect(1px 1px 1px 1px);clip: rect(1px, 1px, 1px, 1px);height: 1px;margin: -1px;overflow: hidden;padding: 0;position: absolute;width: 1px;}#sk-container-id-1 div.sk-estimator {font-family: monospace;background-color: #f0f8ff;border: 1px dotted black;border-radius: 0.25em;box-sizing: border-box;margin-bottom: 0.5em;}#sk-container-id-1 div.sk-estimator:hover {background-color: #d4ebff;}#sk-container-id-1 div.sk-parallel-item::after {content: \"\";width: 100%;border-bottom: 1px solid gray;flex-grow: 1;}#sk-container-id-1 div.sk-label:hover label.sk-toggleable__label {background-color: #d4ebff;}#sk-container-id-1 div.sk-serial::before {content: \"\";position: absolute;border-left: 1px solid gray;box-sizing: border-box;top: 0;bottom: 0;left: 50%;z-index: 0;}#sk-container-id-1 div.sk-serial {display: flex;flex-direction: column;align-items: center;background-color: white;padding-right: 0.2em;padding-left: 0.2em;position: relative;}#sk-container-id-1 div.sk-item {position: relative;z-index: 1;}#sk-container-id-1 div.sk-parallel {display: flex;align-items: stretch;justify-content: center;background-color: white;position: relative;}#sk-container-id-1 div.sk-item::before, #sk-container-id-1 div.sk-parallel-item::before {content: \"\";position: absolute;border-left: 1px solid gray;box-sizing: border-box;top: 0;bottom: 0;left: 50%;z-index: -1;}#sk-container-id-1 div.sk-parallel-item {display: flex;flex-direction: column;z-index: 1;position: relative;background-color: white;}#sk-container-id-1 div.sk-parallel-item:first-child::after {align-self: flex-end;width: 50%;}#sk-container-id-1 div.sk-parallel-item:last-child::after {align-self: flex-start;width: 50%;}#sk-container-id-1 div.sk-parallel-item:only-child::after {width: 0;}#sk-container-id-1 div.sk-dashed-wrapped {border: 1px dashed gray;margin: 0 0.4em 0.5em 0.4em;box-sizing: border-box;padding-bottom: 0.4em;background-color: white;}#sk-container-id-1 div.sk-label label {font-family: monospace;font-weight: bold;display: inline-block;line-height: 1.2em;}#sk-container-id-1 div.sk-label-container {text-align: center;}#sk-container-id-1 div.sk-container {/* jupyter's `normalize.less` sets `[hidden] { display: none; }` but bootstrap.min.css set `[hidden] { display: none !important; }` so we also need the `!important` here to be able to override the default hidden behavior on the sphinx rendered scikit-learn.org. See: https://github.com/scikit-learn/scikit-learn/issues/21755 */display: inline-block !important;position: relative;}#sk-container-id-1 div.sk-text-repr-fallback {display: none;}</style><div id=\"sk-container-id-1\" class=\"sk-top-container\"><div class=\"sk-text-repr-fallback\"><pre>RandomizedSearchCV(cv=5,\n",
       "                   estimator=XGBClassifier(base_score=None, booster=None,\n",
       "                                           callbacks=None,\n",
       "                                           colsample_bylevel=None,\n",
       "                                           colsample_bynode=None,\n",
       "                                           colsample_bytree=None,\n",
       "                                           early_stopping_rounds=None,\n",
       "                                           enable_categorical=False,\n",
       "                                           eval_metric=None, feature_types=None,\n",
       "                                           gamma=None, gpu_id=None,\n",
       "                                           grow_policy=None,\n",
       "                                           importance_type=None,\n",
       "                                           interaction_constraints=None,\n",
       "                                           learning_rate...\n",
       "                                        &#x27;learning_rate&#x27;: &lt;scipy.stats._distn_infrastructure.rv_continuous_frozen object at 0x0000010A67839000&gt;,\n",
       "                                        &#x27;max_depth&#x27;: &lt;scipy.stats._distn_infrastructure.rv_discrete_frozen object at 0x0000010A677D0430&gt;,\n",
       "                                        &#x27;n_estimators&#x27;: &lt;scipy.stats._distn_infrastructure.rv_discrete_frozen object at 0x0000010A677D1F00&gt;,\n",
       "                                        &#x27;subsample&#x27;: &lt;scipy.stats._distn_infrastructure.rv_continuous_frozen object at 0x0000010A677D0D90&gt;},\n",
       "                   random_state=42, scoring=&#x27;accuracy&#x27;)</pre><b>In a Jupyter environment, please rerun this cell to show the HTML representation or trust the notebook. <br />On GitHub, the HTML representation is unable to render, please try loading this page with nbviewer.org.</b></div><div class=\"sk-container\" hidden><div class=\"sk-item sk-dashed-wrapped\"><div class=\"sk-label-container\"><div class=\"sk-label sk-toggleable\"><input class=\"sk-toggleable__control sk-hidden--visually\" id=\"sk-estimator-id-1\" type=\"checkbox\" ><label for=\"sk-estimator-id-1\" class=\"sk-toggleable__label sk-toggleable__label-arrow\">RandomizedSearchCV</label><div class=\"sk-toggleable__content\"><pre>RandomizedSearchCV(cv=5,\n",
       "                   estimator=XGBClassifier(base_score=None, booster=None,\n",
       "                                           callbacks=None,\n",
       "                                           colsample_bylevel=None,\n",
       "                                           colsample_bynode=None,\n",
       "                                           colsample_bytree=None,\n",
       "                                           early_stopping_rounds=None,\n",
       "                                           enable_categorical=False,\n",
       "                                           eval_metric=None, feature_types=None,\n",
       "                                           gamma=None, gpu_id=None,\n",
       "                                           grow_policy=None,\n",
       "                                           importance_type=None,\n",
       "                                           interaction_constraints=None,\n",
       "                                           learning_rate...\n",
       "                                        &#x27;learning_rate&#x27;: &lt;scipy.stats._distn_infrastructure.rv_continuous_frozen object at 0x0000010A67839000&gt;,\n",
       "                                        &#x27;max_depth&#x27;: &lt;scipy.stats._distn_infrastructure.rv_discrete_frozen object at 0x0000010A677D0430&gt;,\n",
       "                                        &#x27;n_estimators&#x27;: &lt;scipy.stats._distn_infrastructure.rv_discrete_frozen object at 0x0000010A677D1F00&gt;,\n",
       "                                        &#x27;subsample&#x27;: &lt;scipy.stats._distn_infrastructure.rv_continuous_frozen object at 0x0000010A677D0D90&gt;},\n",
       "                   random_state=42, scoring=&#x27;accuracy&#x27;)</pre></div></div></div><div class=\"sk-parallel\"><div class=\"sk-parallel-item\"><div class=\"sk-item\"><div class=\"sk-label-container\"><div class=\"sk-label sk-toggleable\"><input class=\"sk-toggleable__control sk-hidden--visually\" id=\"sk-estimator-id-2\" type=\"checkbox\" ><label for=\"sk-estimator-id-2\" class=\"sk-toggleable__label sk-toggleable__label-arrow\">estimator: XGBClassifier</label><div class=\"sk-toggleable__content\"><pre>XGBClassifier(base_score=None, booster=None, callbacks=None,\n",
       "              colsample_bylevel=None, colsample_bynode=None,\n",
       "              colsample_bytree=None, early_stopping_rounds=None,\n",
       "              enable_categorical=False, eval_metric=None, feature_types=None,\n",
       "              gamma=None, gpu_id=None, grow_policy=None, importance_type=None,\n",
       "              interaction_constraints=None, learning_rate=None, max_bin=None,\n",
       "              max_cat_threshold=None, max_cat_to_onehot=None,\n",
       "              max_delta_step=None, max_depth=None, max_leaves=None,\n",
       "              min_child_weight=None, missing=nan, monotone_constraints=None,\n",
       "              n_estimators=100, n_jobs=None, num_parallel_tree=None,\n",
       "              predictor=None, random_state=42, ...)</pre></div></div></div><div class=\"sk-serial\"><div class=\"sk-item\"><div class=\"sk-estimator sk-toggleable\"><input class=\"sk-toggleable__control sk-hidden--visually\" id=\"sk-estimator-id-3\" type=\"checkbox\" ><label for=\"sk-estimator-id-3\" class=\"sk-toggleable__label sk-toggleable__label-arrow\">XGBClassifier</label><div class=\"sk-toggleable__content\"><pre>XGBClassifier(base_score=None, booster=None, callbacks=None,\n",
       "              colsample_bylevel=None, colsample_bynode=None,\n",
       "              colsample_bytree=None, early_stopping_rounds=None,\n",
       "              enable_categorical=False, eval_metric=None, feature_types=None,\n",
       "              gamma=None, gpu_id=None, grow_policy=None, importance_type=None,\n",
       "              interaction_constraints=None, learning_rate=None, max_bin=None,\n",
       "              max_cat_threshold=None, max_cat_to_onehot=None,\n",
       "              max_delta_step=None, max_depth=None, max_leaves=None,\n",
       "              min_child_weight=None, missing=nan, monotone_constraints=None,\n",
       "              n_estimators=100, n_jobs=None, num_parallel_tree=None,\n",
       "              predictor=None, random_state=42, ...)</pre></div></div></div></div></div></div></div></div></div></div>"
      ],
      "text/plain": [
       "RandomizedSearchCV(cv=5,\n",
       "                   estimator=XGBClassifier(base_score=None, booster=None,\n",
       "                                           callbacks=None,\n",
       "                                           colsample_bylevel=None,\n",
       "                                           colsample_bynode=None,\n",
       "                                           colsample_bytree=None,\n",
       "                                           early_stopping_rounds=None,\n",
       "                                           enable_categorical=False,\n",
       "                                           eval_metric=None, feature_types=None,\n",
       "                                           gamma=None, gpu_id=None,\n",
       "                                           grow_policy=None,\n",
       "                                           importance_type=None,\n",
       "                                           interaction_constraints=None,\n",
       "                                           learning_rate...\n",
       "                                        'learning_rate': <scipy.stats._distn_infrastructure.rv_continuous_frozen object at 0x0000010A67839000>,\n",
       "                                        'max_depth': <scipy.stats._distn_infrastructure.rv_discrete_frozen object at 0x0000010A677D0430>,\n",
       "                                        'n_estimators': <scipy.stats._distn_infrastructure.rv_discrete_frozen object at 0x0000010A677D1F00>,\n",
       "                                        'subsample': <scipy.stats._distn_infrastructure.rv_continuous_frozen object at 0x0000010A677D0D90>},\n",
       "                   random_state=42, scoring='accuracy')"
      ]
     },
     "execution_count": 10,
     "metadata": {},
     "output_type": "execute_result"
    }
   ],
   "source": [
    "from scipy.stats import uniform, randint\n",
    "from sklearn.model_selection import RandomizedSearchCV\n",
    "\n",
    "clf = XGBClassifier(objective='binary:logistic', random_state=42)\n",
    "\n",
    "param_dist = {\n",
    "    'learning_rate': uniform(0.01, 0.1),\n",
    "    'n_estimators': randint(50, 200),\n",
    "    'max_depth': randint(3, 10),\n",
    "    'subsample': uniform(0.6, 0.4),\n",
    "    'colsample_bytree': uniform(0.6, 0.4),\n",
    "}\n",
    "\n",
    "random_search = RandomizedSearchCV(\n",
    "    estimator=clf,\n",
    "    param_distributions=param_dist,\n",
    "    n_iter=10,\n",
    "    scoring='accuracy',\n",
    "    cv=5,\n",
    "    random_state=42,\n",
    "    n_jobs=-1,\n",
    ")\n",
    "random_search.fit(X_train, y_train)"
   ]
  },
  {
   "cell_type": "code",
   "execution_count": 11,
   "metadata": {
    "collapsed": false,
    "jupyter": {
     "outputs_hidden": false
    }
   },
   "outputs": [
    {
     "data": {
      "text/plain": [
       "['best_xgb_model.joblib']"
      ]
     },
     "execution_count": 11,
     "metadata": {},
     "output_type": "execute_result"
    }
   ],
   "source": [
    "import joblib\n",
    "\n",
    "best_model = XGBClassifier(**random_search.best_params_, random_state=42)\n",
    "best_model.fit(X_train, y_train)\n",
    "model_filename = 'best_xgb_model.joblib'\n",
    "joblib.dump(best_model, model_filename)"
   ]
  },
  {
   "cell_type": "code",
   "execution_count": 12,
   "metadata": {
    "collapsed": false,
    "jupyter": {
     "outputs_hidden": false
    }
   },
   "outputs": [
    {
     "name": "stdout",
     "output_type": "stream",
     "text": [
      "              precision    recall  f1-score   support\n",
      "\n",
      "           0       0.66      0.55      0.60        42\n",
      "           1       0.78      0.85      0.81        80\n",
      "\n",
      "    accuracy                           0.75       122\n",
      "   macro avg       0.72      0.70      0.71       122\n",
      "weighted avg       0.74      0.75      0.74       122\n",
      "\n"
     ]
    }
   ],
   "source": [
    "y_pred = best_model.predict(X_test)\n",
    "\n",
    "report = classification_report(y_test, y_pred)\n",
    "print(report)"
   ]
  },
  {
   "cell_type": "code",
   "execution_count": null,
   "metadata": {
    "collapsed": false,
    "jupyter": {
     "outputs_hidden": false
    }
   },
   "outputs": [],
   "source": []
  }
 ],
 "metadata": {
  "kernelspec": {
   "display_name": "Python 3 (ipykernel)",
   "language": "python",
   "name": "python3"
  },
  "language_info": {
   "codemirror_mode": {
    "name": "ipython",
    "version": 3
   },
   "file_extension": ".py",
   "mimetype": "text/x-python",
   "name": "python",
   "nbconvert_exporter": "python",
   "pygments_lexer": "ipython3",
   "version": "3.11.4"
  }
 },
 "nbformat": 4,
 "nbformat_minor": 4
}
